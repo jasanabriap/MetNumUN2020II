{
  "nbformat": 4,
  "nbformat_minor": 0,
  "metadata": {
    "colab": {
      "name": "Untitled1.ipynb",
      "provenance": [],
      "collapsed_sections": []
    },
    "kernelspec": {
      "name": "python3",
      "display_name": "Python 3"
    }
  },
  "cells": [
    {
      "cell_type": "code",
      "metadata": {
        "colab": {
          "base_uri": "https://localhost:8080/"
        },
        "id": "vGXVzSa6Gr8W",
        "outputId": "e4db92bf-9f19-4cdd-f984-d92cf9b67ec4"
      },
      "source": [
        "pip install -U fortran-magic"
      ],
      "execution_count": 5,
      "outputs": [
        {
          "output_type": "stream",
          "text": [
            "Collecting fortran-magic\n",
            "  Downloading https://files.pythonhosted.org/packages/53/b1/d664bd431354c450f40fa436b2c9306666cd417b23098dd5636751c557a4/fortran_magic-0.7-py3-none-any.whl\n",
            "Requirement already satisfied, skipping upgrade: ipython in /usr/local/lib/python3.6/dist-packages (from fortran-magic) (5.5.0)\n",
            "Requirement already satisfied, skipping upgrade: numpy in /usr/local/lib/python3.6/dist-packages (from fortran-magic) (1.18.5)\n",
            "Requirement already satisfied, skipping upgrade: pygments in /usr/local/lib/python3.6/dist-packages (from ipython->fortran-magic) (2.6.1)\n",
            "Requirement already satisfied, skipping upgrade: prompt-toolkit<2.0.0,>=1.0.4 in /usr/local/lib/python3.6/dist-packages (from ipython->fortran-magic) (1.0.18)\n",
            "Requirement already satisfied, skipping upgrade: setuptools>=18.5 in /usr/local/lib/python3.6/dist-packages (from ipython->fortran-magic) (50.3.2)\n",
            "Requirement already satisfied, skipping upgrade: traitlets>=4.2 in /usr/local/lib/python3.6/dist-packages (from ipython->fortran-magic) (4.3.3)\n",
            "Requirement already satisfied, skipping upgrade: simplegeneric>0.8 in /usr/local/lib/python3.6/dist-packages (from ipython->fortran-magic) (0.8.1)\n",
            "Requirement already satisfied, skipping upgrade: pickleshare in /usr/local/lib/python3.6/dist-packages (from ipython->fortran-magic) (0.7.5)\n",
            "Requirement already satisfied, skipping upgrade: decorator in /usr/local/lib/python3.6/dist-packages (from ipython->fortran-magic) (4.4.2)\n",
            "Requirement already satisfied, skipping upgrade: pexpect; sys_platform != \"win32\" in /usr/local/lib/python3.6/dist-packages (from ipython->fortran-magic) (4.8.0)\n",
            "Requirement already satisfied, skipping upgrade: six>=1.9.0 in /usr/local/lib/python3.6/dist-packages (from prompt-toolkit<2.0.0,>=1.0.4->ipython->fortran-magic) (1.15.0)\n",
            "Requirement already satisfied, skipping upgrade: wcwidth in /usr/local/lib/python3.6/dist-packages (from prompt-toolkit<2.0.0,>=1.0.4->ipython->fortran-magic) (0.2.5)\n",
            "Requirement already satisfied, skipping upgrade: ipython-genutils in /usr/local/lib/python3.6/dist-packages (from traitlets>=4.2->ipython->fortran-magic) (0.2.0)\n",
            "Requirement already satisfied, skipping upgrade: ptyprocess>=0.5 in /usr/local/lib/python3.6/dist-packages (from pexpect; sys_platform != \"win32\"->ipython->fortran-magic) (0.6.0)\n",
            "Installing collected packages: fortran-magic\n",
            "Successfully installed fortran-magic-0.7\n"
          ],
          "name": "stdout"
        }
      ]
    },
    {
      "cell_type": "code",
      "metadata": {
        "colab": {
          "base_uri": "https://localhost:8080/",
          "height": 51
        },
        "id": "3edy6D_HKdSa",
        "outputId": "782e6ec2-a999-4767-a3ee-9cc671007735"
      },
      "source": [
        "%matplotlib inline\r\n",
        "%reload_ext fortranmagic\r\n",
        "\r\n",
        "import sys; sys.path.append('..')\r\n",
        "\r\n",
        "import pandas as pd\r\n",
        "import numpy as np\r\n",
        "import matplotlib as mpl\r\n",
        "import matplotlib.pyplot as plt\r\n",
        "import seaborn as sns\r\n",
        "\r\n",
        "mpl.rc('figure', figsize=(12, 7))\r\n",
        "\r\n",
        "ran_the_first_cell = True\r\n",
        "\r\n",
        "jan2017 = pd.to_datetime(['2017-01-03 00:00:00+00:00',\r\n",
        " '2017-01-04 00:00:00+00:00',\r\n",
        " '2017-01-05 00:00:00+00:00',\r\n",
        " '2017-01-06 00:00:00+00:00',\r\n",
        " '2017-01-09 00:00:00+00:00',\r\n",
        " '2017-01-10 00:00:00+00:00',\r\n",
        " '2017-01-11 00:00:00+00:00',\r\n",
        " '2017-01-12 00:00:00+00:00',\r\n",
        " '2017-01-13 00:00:00+00:00',\r\n",
        " '2017-01-17 00:00:00+00:00',\r\n",
        " '2017-01-18 00:00:00+00:00',\r\n",
        " '2017-01-19 00:00:00+00:00',\r\n",
        " '2017-01-20 00:00:00+00:00',\r\n",
        " '2017-01-23 00:00:00+00:00',\r\n",
        " '2017-01-24 00:00:00+00:00',\r\n",
        " '2017-01-25 00:00:00+00:00',\r\n",
        " '2017-01-26 00:00:00+00:00',\r\n",
        " '2017-01-27 00:00:00+00:00',\r\n",
        " '2017-01-30 00:00:00+00:00',\r\n",
        " '2017-01-31 00:00:00+00:00',\r\n",
        " '2017-02-01 00:00:00+00:00'])\r\n",
        "calendar = jan2017.values.astype('datetime64[D]')\r\n",
        "\r\n",
        "event_dates = pd.to_datetime(['2017-01-06 00:00:00+00:00', \r\n",
        "                             '2017-01-07 00:00:00+00:00', \r\n",
        "                             '2017-01-08 00:00:00+00:00']).values.astype('datetime64[D]')\r\n",
        "event_values = np.array([10, 15, 20])"
      ],
      "execution_count": 11,
      "outputs": [
        {
          "output_type": "stream",
          "text": [
            "/usr/local/lib/python3.6/dist-packages/fortranmagic.py:147: UserWarning: get_ipython_cache_dir has moved to the IPython.paths module since IPython 4.0.\n",
            "  self._lib_dir = os.path.join(get_ipython_cache_dir(), 'fortran')\n"
          ],
          "name": "stderr"
        },
        {
          "output_type": "display_data",
          "data": {
            "application/javascript": [
              "$.getScript(\"https://raw.github.com/marijnh/CodeMirror/master/mode/fortran/fortran.js\", function () {\n",
              "IPython.config.cell_magic_highlight['magic_fortran'] = {'reg':[/^%%fortran/]};});\n"
            ]
          },
          "metadata": {
            "tags": []
          }
        }
      ]
    },
    {
      "cell_type": "markdown",
      "metadata": {
        "id": "xnTHE6lpNDf9"
      },
      "source": [
        "<center>\r\n",
        "  <h1>Jenny Alejandra Sanabria P:</h1>\r\n",
        "  <h3><a href=\"https://github.com/jasanabriap/MetNumUN2020II\">https://github.com/jasanabriap/MetNumUN2020II</a></h3>\r\n",
        "</center>"
      ]
    },
    {
      "cell_type": "markdown",
      "metadata": {
        "id": "AgtTSCamQKgD"
      },
      "source": [
        "# Un poco de mí, Alejandra:\r\n",
        "\r\n",
        "\r\n",
        "- Estudiante de ingeniería agrícola\r\n",
        "- Me gustan las artes plásticas\r\n",
        "- Uso una bici libre color lila\r\n",
        "- En este github están todos mis proyectos que hice d la clase Métodos Numéricos"
      ]
    },
    {
      "cell_type": "markdown",
      "metadata": {
        "id": "p6CfNxEASwCd"
      },
      "source": [
        "#Lists"
      ]
    },
    {
      "cell_type": "code",
      "metadata": {
        "id": "L-7tPVNSRcpa"
      },
      "source": [
        "assert ran_the_first_cell, \"Oh noes!\""
      ],
      "execution_count": 16,
      "outputs": []
    },
    {
      "cell_type": "code",
      "metadata": {
        "colab": {
          "base_uri": "https://localhost:8080/"
        },
        "id": "kUTV7hwdPSyH",
        "outputId": "2a9fe91e-aac8-4668-f1a1-b1c45149802d"
      },
      "source": [
        "l = [1, 'two', 88, 99, 55, \"one\"]\r\n",
        "l"
      ],
      "execution_count": 18,
      "outputs": [
        {
          "output_type": "execute_result",
          "data": {
            "text/plain": [
              "[1, 'two', 88, 99, 55, 'one']"
            ]
          },
          "metadata": {
            "tags": []
          },
          "execution_count": 18
        }
      ]
    },
    {
      "cell_type": "code",
      "metadata": {
        "colab": {
          "base_uri": "https://localhost:8080/"
        },
        "id": "R0TT7CYHTDKy",
        "outputId": "5509b946-3676-45be-dddd-81e61a1ac70a"
      },
      "source": [
        "# Lists can be indexed like C-style arrays.\r\n",
        "first = l[0]\r\n",
        "second = l[1]\r\n",
        "print(\"first:\", first)\r\n",
        "print(\"second:\", second)"
      ],
      "execution_count": 19,
      "outputs": [
        {
          "output_type": "stream",
          "text": [
            "first: 1\n",
            "second: two\n"
          ],
          "name": "stdout"
        }
      ]
    },
    {
      "cell_type": "code",
      "metadata": {
        "colab": {
          "base_uri": "https://localhost:8080/"
        },
        "id": "qDOKLAUfTTBH",
        "outputId": "3f08f8de-b79d-4494-979a-169bb04bae02"
      },
      "source": [
        "# Negative indexing gives elements relative to the end of the list.\r\n",
        "last = l[-1]\r\n",
        "penultimate = l[-2]\r\n",
        "print(\"last:\", last)\r\n",
        "print(\"second to last:\", penultimate)"
      ],
      "execution_count": 20,
      "outputs": [
        {
          "output_type": "stream",
          "text": [
            "last: one\n",
            "second to last: 55\n"
          ],
          "name": "stdout"
        }
      ]
    },
    {
      "cell_type": "code",
      "metadata": {
        "colab": {
          "base_uri": "https://localhost:8080/"
        },
        "id": "Bmf11Lc4TbzI",
        "outputId": "31fd0b46-16d3-4d9b-bdbf-606f149c4dfa"
      },
      "source": [
        "# Lists can also be sliced, which makes a copy of elements between \r\n",
        "# start (inclusive) and stop (exclusive)\r\n",
        "sublist = l[1:4]\r\n",
        "sublist"
      ],
      "execution_count": 21,
      "outputs": [
        {
          "output_type": "execute_result",
          "data": {
            "text/plain": [
              "['two', 88, 99]"
            ]
          },
          "metadata": {
            "tags": []
          },
          "execution_count": 21
        }
      ]
    },
    {
      "cell_type": "code",
      "metadata": {
        "colab": {
          "base_uri": "https://localhost:8080/"
        },
        "id": "STqvbTZuTnRU",
        "outputId": "a5141c80-11d4-4f29-aa40-012db77cccd0"
      },
      "source": [
        "# l[:N] is equivalent to l[0:N].\r\n",
        "first_three = l[:4]\r\n",
        "first_three"
      ],
      "execution_count": 22,
      "outputs": [
        {
          "output_type": "execute_result",
          "data": {
            "text/plain": [
              "[1, 'two', 88, 99]"
            ]
          },
          "metadata": {
            "tags": []
          },
          "execution_count": 22
        }
      ]
    },
    {
      "cell_type": "code",
      "metadata": {
        "colab": {
          "base_uri": "https://localhost:8080/"
        },
        "id": "yOp8U5H4TqAK",
        "outputId": "d0d91864-d555-4168-d0bf-bee08a7b2b41"
      },
      "source": [
        "# l[3:] is equivalent to l[3:len(l)].\r\n",
        "after_three = l[2:]\r\n",
        "after_three"
      ],
      "execution_count": 23,
      "outputs": [
        {
          "output_type": "execute_result",
          "data": {
            "text/plain": [
              "[88, 99, 55, 'one']"
            ]
          },
          "metadata": {
            "tags": []
          },
          "execution_count": 23
        }
      ]
    },
    {
      "cell_type": "code",
      "metadata": {
        "colab": {
          "base_uri": "https://localhost:8080/"
        },
        "id": "-DM7HWwdTtqc",
        "outputId": "69bf2967-8a65-4f03-9f3c-5779c848446b"
      },
      "source": [
        "# There's also a third parameter, \"step\", which gets every Nth element.\r\n",
        "l = ['a', 'l', 'e', 'j', 'a', 's', 'a','0']\r\n",
        "l[1:7:2]"
      ],
      "execution_count": 24,
      "outputs": [
        {
          "output_type": "execute_result",
          "data": {
            "text/plain": [
              "['l', 'j', 's']"
            ]
          },
          "metadata": {
            "tags": []
          },
          "execution_count": 24
        }
      ]
    },
    {
      "cell_type": "code",
      "metadata": {
        "colab": {
          "base_uri": "https://localhost:8080/"
        },
        "id": "yWlHSiLOT6Md",
        "outputId": "89b8b126-d575-448a-fdc9-9d4e96a273db"
      },
      "source": [
        "# Lists can be grown efficiently (in O(1) amortized time).\r\n",
        "l = [34, 23, 67, 45, 89]\r\n",
        "print(\"Before:\", l)\r\n",
        "l.append('six')\r\n",
        "print(\"After:\", l)"
      ],
      "execution_count": 25,
      "outputs": [
        {
          "output_type": "stream",
          "text": [
            "Before: [34, 23, 67, 45, 89]\n",
            "After: [34, 23, 67, 45, 89, 'six']\n"
          ],
          "name": "stdout"
        }
      ]
    },
    {
      "cell_type": "code",
      "metadata": {
        "colab": {
          "base_uri": "https://localhost:8080/"
        },
        "id": "ghoea_ybUBTh",
        "outputId": "cf0e259b-b1d5-440a-973a-ce7f4e657159"
      },
      "source": [
        "# Comprehensions let us perform elementwise computations.\r\n",
        "l = [6, 9, 3, 4, 8]\r\n",
        "[x * 2 for x in l]"
      ],
      "execution_count": 26,
      "outputs": [
        {
          "output_type": "execute_result",
          "data": {
            "text/plain": [
              "[12, 18, 6, 8, 16]"
            ]
          },
          "metadata": {
            "tags": []
          },
          "execution_count": 26
        }
      ]
    },
    {
      "cell_type": "markdown",
      "metadata": {
        "id": "PUlRY9PZUg91"
      },
      "source": [
        "#Dictionaries"
      ]
    },
    {
      "cell_type": "code",
      "metadata": {
        "colab": {
          "base_uri": "https://localhost:8080/"
        },
        "id": "K_GRp6yYUHBw",
        "outputId": "a4613752-4966-4bcd-a997-833d545cb863"
      },
      "source": [
        "# Dictionaries are key-value mappings.\r\n",
        "philosophers = {'Dog': 'One', 'Cat': 'Three', 'Bunny': 'Five'}\r\n",
        "philosophers"
      ],
      "execution_count": 30,
      "outputs": [
        {
          "output_type": "execute_result",
          "data": {
            "text/plain": [
              "{'Bunny': 'Five', 'Cat': 'Three', 'Dog': 'One'}"
            ]
          },
          "metadata": {
            "tags": []
          },
          "execution_count": 30
        }
      ]
    },
    {
      "cell_type": "code",
      "metadata": {
        "colab": {
          "base_uri": "https://localhost:8080/"
        },
        "id": "dyixjzvJVUT9",
        "outputId": "acacbb2b-5332-4966-a640-0e17c25ef9ee"
      },
      "source": [
        "# Like lists, dictionaries are size-mutable.\r\n",
        "philosophers['Cow'] = 'Seven'\r\n",
        "philosophers"
      ],
      "execution_count": 31,
      "outputs": [
        {
          "output_type": "execute_result",
          "data": {
            "text/plain": [
              "{'Bunny': 'Five', 'Cat': 'Three', 'Cow': 'Seven', 'Dog': 'One'}"
            ]
          },
          "metadata": {
            "tags": []
          },
          "execution_count": 31
        }
      ]
    },
    {
      "cell_type": "code",
      "metadata": {
        "colab": {
          "base_uri": "https://localhost:8080/"
        },
        "id": "kqSJHRvRVaGC",
        "outputId": "2508d88a-d278-4f75-c82e-303e1b358b10"
      },
      "source": [
        "philosophers['Cow'] = 'Seven'\r\n",
        "philosophers"
      ],
      "execution_count": 33,
      "outputs": [
        {
          "output_type": "execute_result",
          "data": {
            "text/plain": [
              "{'Bunny': 'Five', 'Cat': 'Three', 'Cow': 'Seven', 'Dog': 'One'}"
            ]
          },
          "metadata": {
            "tags": []
          },
          "execution_count": 33
        }
      ]
    },
    {
      "cell_type": "code",
      "metadata": {
        "colab": {
          "base_uri": "https://localhost:8080/"
        },
        "id": "nPdTMu9hWRR5",
        "outputId": "93b05bfa-b780-49a3-9ad0-3548aa6f6265"
      },
      "source": [
        "del philosophers['Dog']\r\n",
        "philosophers"
      ],
      "execution_count": 34,
      "outputs": [
        {
          "output_type": "execute_result",
          "data": {
            "text/plain": [
              "{'Bunny': 'Five', 'Cat': 'Three', 'Cow': 'Seven'}"
            ]
          },
          "metadata": {
            "tags": []
          },
          "execution_count": 34
        }
      ]
    },
    {
      "cell_type": "code",
      "metadata": {
        "colab": {
          "base_uri": "https://localhost:8080/",
          "height": 180
        },
        "id": "FrastA57Wbhg",
        "outputId": "e74b53de-9844-49b4-8612-fee3f293aa7e"
      },
      "source": [
        "# No slicing.\r\n",
        "philosophers['Cow':'Cat']"
      ],
      "execution_count": 35,
      "outputs": [
        {
          "output_type": "error",
          "ename": "TypeError",
          "evalue": "ignored",
          "traceback": [
            "\u001b[0;31m---------------------------------------------------------------------------\u001b[0m",
            "\u001b[0;31mTypeError\u001b[0m                                 Traceback (most recent call last)",
            "\u001b[0;32m<ipython-input-35-d550105badce>\u001b[0m in \u001b[0;36m<module>\u001b[0;34m()\u001b[0m\n\u001b[1;32m      1\u001b[0m \u001b[0;31m# No slicing.\u001b[0m\u001b[0;34m\u001b[0m\u001b[0;34m\u001b[0m\u001b[0;34m\u001b[0m\u001b[0m\n\u001b[0;32m----> 2\u001b[0;31m \u001b[0mphilosophers\u001b[0m\u001b[0;34m[\u001b[0m\u001b[0;34m'Cow'\u001b[0m\u001b[0;34m:\u001b[0m\u001b[0;34m'Cat'\u001b[0m\u001b[0;34m]\u001b[0m\u001b[0;34m\u001b[0m\u001b[0;34m\u001b[0m\u001b[0m\n\u001b[0m",
            "\u001b[0;31mTypeError\u001b[0m: unhashable type: 'slice'"
          ]
        }
      ]
    },
    {
      "cell_type": "markdown",
      "metadata": {
        "id": "kPrAbCsgWwo1"
      },
      "source": [
        "#Review: Python Dictionaries"
      ]
    },
    {
      "cell_type": "code",
      "metadata": {
        "id": "aaG5gsLRWqHR"
      },
      "source": [
        "# Suppose we have some matrices...\r\n",
        "a = [[1, 2, 3758],\r\n",
        "     [2, 356, 4],\r\n",
        "     [58, 6, 7497],\r\n",
        "     [3403, 1, 163]]\r\n",
        "\r\n",
        "b = [[1, 24, 3, 784],\r\n",
        "     [22, 3, 64, 5]]"
      ],
      "execution_count": 36,
      "outputs": []
    },
    {
      "cell_type": "code",
      "metadata": {
        "id": "N50roj9IXD7y"
      },
      "source": [
        "def matmul(A, B):\r\n",
        "    \"\"\"Multiply matrix A by matrix B.\"\"\"\r\n",
        "    rows_out = len(A)\r\n",
        "    cols_out = len(B[0])\r\n",
        "    out = [[0 for col in range(cols_out)] for row in range(rows_out)]\r\n",
        "    \r\n",
        "    for i in range(rows_out):\r\n",
        "        for j in range(cols_out):\r\n",
        "            for k in range(len(B)):\r\n",
        "                out[i][j] += A[i][k] * B[k][j]\r\n",
        "    return out"
      ],
      "execution_count": 37,
      "outputs": []
    },
    {
      "cell_type": "code",
      "metadata": {
        "colab": {
          "base_uri": "https://localhost:8080/"
        },
        "id": "5J1nAuOqXLF9",
        "outputId": "d6ab93be-4f74-4a94-8cb1-6b85b6b827e4"
      },
      "source": [
        "%%time\r\n",
        "\r\n",
        "matmul(a, b)"
      ],
      "execution_count": 38,
      "outputs": [
        {
          "output_type": "stream",
          "text": [
            "CPU times: user 28 µs, sys: 6 µs, total: 34 µs\n",
            "Wall time: 37 µs\n"
          ],
          "name": "stdout"
        },
        {
          "output_type": "execute_result",
          "data": {
            "text/plain": [
              "[[45, 30, 131, 794],\n",
              " [7834, 1116, 22790, 3348],\n",
              " [190, 1410, 558, 45502],\n",
              " [3425, 81675, 10273, 2667957]]"
            ]
          },
          "metadata": {
            "tags": []
          },
          "execution_count": 38
        }
      ]
    },
    {
      "cell_type": "code",
      "metadata": {
        "colab": {
          "base_uri": "https://localhost:8080/"
        },
        "id": "b5-v165OXSMA",
        "outputId": "100ba99f-346d-4c0c-e1fe-4ca81ca53eb2"
      },
      "source": [
        "import random\r\n",
        "def random_matrix(m, n):\r\n",
        "    out = []\r\n",
        "    for row in range(m):\r\n",
        "        out.append([random.random() for _ in range(n)])\r\n",
        "    return out\r\n",
        "\r\n",
        "randm = random_matrix(2, 3)\r\n",
        "randm"
      ],
      "execution_count": 39,
      "outputs": [
        {
          "output_type": "execute_result",
          "data": {
            "text/plain": [
              "[[0.681111129994225, 0.2742915796018415, 0.5850012545230261],\n",
              " [0.8467993325292381, 0.47638324525740217, 0.12649596622804038]]"
            ]
          },
          "metadata": {
            "tags": []
          },
          "execution_count": 39
        }
      ]
    },
    {
      "cell_type": "code",
      "metadata": {
        "colab": {
          "base_uri": "https://localhost:8080/"
        },
        "id": "sKZNlTeCXbF8",
        "outputId": "3afa816d-df7a-4abe-f853-b5ae18c1bc38"
      },
      "source": [
        "%%time\r\n",
        "randa = random_matrix(200, 10)\r\n",
        "randb = random_matrix(10, 200)\r\n",
        "x = matmul(randa, randb)"
      ],
      "execution_count": 40,
      "outputs": [
        {
          "output_type": "stream",
          "text": [
            "CPU times: user 83 ms, sys: 0 ns, total: 83 ms\n",
            "Wall time: 82.8 ms\n"
          ],
          "name": "stdout"
        }
      ]
    },
    {
      "cell_type": "code",
      "metadata": {
        "id": "zCy7kpJGXgQN"
      },
      "source": [
        "# Maybe that's not that bad?  Let's try a simpler case.\r\n",
        "def python_dot_product(xs, ys):\r\n",
        "    return sum(x * y for x, y in zip(xs, ys))"
      ],
      "execution_count": 41,
      "outputs": []
    },
    {
      "cell_type": "code",
      "metadata": {
        "id": "c8HnCfxbXjdh"
      },
      "source": [
        "%%fortran\r\n",
        "subroutine fortran_dot_product(xs, ys, result)\r\n",
        "    double precision, intent(in) :: xs(:)\r\n",
        "    double precision, intent(in) :: ys(:)\r\n",
        "    double precision, intent(out) :: result\r\n",
        "    \r\n",
        "    result = sum(xs * ys)\r\n",
        "end"
      ],
      "execution_count": 42,
      "outputs": []
    },
    {
      "cell_type": "code",
      "metadata": {
        "id": "cm-wK4CWXlwm"
      },
      "source": [
        "list_data = [float(i) for i in range(100000)]\r\n",
        "array_data = np.array(list_data)"
      ],
      "execution_count": 43,
      "outputs": []
    },
    {
      "cell_type": "code",
      "metadata": {
        "colab": {
          "base_uri": "https://localhost:8080/"
        },
        "id": "8H2JZqmjXoo4",
        "outputId": "4220d5bd-4c09-4d79-a29a-3224dcd664c6"
      },
      "source": [
        "%%time\r\n",
        "python_dot_product(list_data, list_data)"
      ],
      "execution_count": 44,
      "outputs": [
        {
          "output_type": "stream",
          "text": [
            "CPU times: user 11.3 ms, sys: 832 µs, total: 12.2 ms\n",
            "Wall time: 18 ms\n"
          ],
          "name": "stdout"
        },
        {
          "output_type": "execute_result",
          "data": {
            "text/plain": [
              "333328333350000.0"
            ]
          },
          "metadata": {
            "tags": []
          },
          "execution_count": 44
        }
      ]
    },
    {
      "cell_type": "code",
      "metadata": {
        "colab": {
          "base_uri": "https://localhost:8080/"
        },
        "id": "ndGCAXuPXwQF",
        "outputId": "1ffc9edd-fce6-4058-c18f-e294cbb4bd8f"
      },
      "source": [
        "%%time\r\n",
        "fortran_dot_product(array_data, array_data)"
      ],
      "execution_count": 45,
      "outputs": [
        {
          "output_type": "stream",
          "text": [
            "CPU times: user 98 µs, sys: 20 µs, total: 118 µs\n",
            "Wall time: 121 µs\n"
          ],
          "name": "stdout"
        },
        {
          "output_type": "execute_result",
          "data": {
            "text/plain": [
              "333328333350000.0"
            ]
          },
          "metadata": {
            "tags": []
          },
          "execution_count": 45
        }
      ]
    },
    {
      "cell_type": "markdown",
      "metadata": {
        "id": "YCLf1IpoX9LV"
      },
      "source": [
        "#Why is the Python Version so Much Slower?"
      ]
    },
    {
      "cell_type": "code",
      "metadata": {
        "colab": {
          "base_uri": "https://localhost:8080/"
        },
        "id": "ms9SZQ6MX0Zr",
        "outputId": "2bef08e3-bd48-435b-88a1-81aa25c3e241"
      },
      "source": [
        "# Dynamic typing.\r\n",
        "def mul_elemwise(xs, ys):\r\n",
        "    return [x * y for x, y in zip(xs, ys)]\r\n",
        "\r\n",
        "mul_elemwise([11, 2, 33, 4], [1, 6 + 0j, 2.0, 'five'])\r\n",
        "#[type(x) for x in _]"
      ],
      "execution_count": 46,
      "outputs": [
        {
          "output_type": "execute_result",
          "data": {
            "text/plain": [
              "[11, (12+0j), 66.0, 'fivefivefivefive']"
            ]
          },
          "metadata": {
            "tags": []
          },
          "execution_count": 46
        }
      ]
    },
    {
      "cell_type": "code",
      "metadata": {
        "colab": {
          "base_uri": "https://localhost:8080/"
        },
        "id": "_xvaVKuMYGzj",
        "outputId": "7fda1dc5-40b0-4688-f9d2-53bec0224e10"
      },
      "source": [
        "# Interpretation overhead.\r\n",
        "source_code = 'a + b * c'\r\n",
        "bytecode = compile(source_code, '', 'eval')\r\n",
        "import dis; dis.dis(bytecode)"
      ],
      "execution_count": 47,
      "outputs": [
        {
          "output_type": "stream",
          "text": [
            "  1           0 LOAD_NAME                0 (a)\n",
            "              2 LOAD_NAME                1 (b)\n",
            "              4 LOAD_NAME                2 (c)\n",
            "              6 BINARY_MULTIPLY\n",
            "              8 BINARY_ADD\n",
            "             10 RETURN_VALUE\n"
          ],
          "name": "stdout"
        }
      ]
    },
    {
      "cell_type": "markdown",
      "metadata": {
        "id": "yVf4Lze9YRWd"
      },
      "source": [
        "#Why is the Python Version so Slow?\r\n",
        "> This is the paradox that we have to work with when we're doing scientific or numerically-intensive Python. What makes Python fast for development -- this high-level, interpreted, and dynamically-typed aspect of the language -- is exactly what makes it slow for code execution.\r\n",
        "\r\n",
        "- Jake VanderPlas, [*Losing Your Loops: Fast Numerical Computing with NumPy*](https://www.youtube.com/watch?v=EEUXKG97YRw)"
      ]
    },
    {
      "cell_type": "markdown",
      "metadata": {
        "id": "iYV3qR2fYl1t"
      },
      "source": [
        "#What Do We Do?"
      ]
    },
    {
      "cell_type": "code",
      "metadata": {
        "colab": {
          "base_uri": "https://localhost:8080/"
        },
        "id": "LHGJlOoxYrk8",
        "outputId": "469b500e-ef3c-4b90-d57c-c51379b70aa5"
      },
      "source": [
        "import numpy as np\r\n",
        "\r\n",
        "data = np.array([9, 8, 7, 6])\r\n",
        "data"
      ],
      "execution_count": 48,
      "outputs": [
        {
          "output_type": "execute_result",
          "data": {
            "text/plain": [
              "array([9, 8, 7, 6])"
            ]
          },
          "metadata": {
            "tags": []
          },
          "execution_count": 48
        }
      ]
    },
    {
      "cell_type": "code",
      "metadata": {
        "colab": {
          "base_uri": "https://localhost:8080/"
        },
        "id": "uOGftELaYwEU",
        "outputId": "34128481-b8ca-45cf-b991-4b76cc248b8a"
      },
      "source": [
        "data + data"
      ],
      "execution_count": 49,
      "outputs": [
        {
          "output_type": "execute_result",
          "data": {
            "text/plain": [
              "array([18, 16, 14, 12])"
            ]
          },
          "metadata": {
            "tags": []
          },
          "execution_count": 49
        }
      ]
    },
    {
      "cell_type": "code",
      "metadata": {
        "colab": {
          "base_uri": "https://localhost:8080/"
        },
        "id": "Yty7rte5YxkS",
        "outputId": "c7421350-0463-41e7-c4b0-c7e4a41dea1e"
      },
      "source": [
        "%%time\r\n",
        "# Naive dot product\r\n",
        "(array_data * array_data).sum()"
      ],
      "execution_count": 50,
      "outputs": [
        {
          "output_type": "stream",
          "text": [
            "CPU times: user 0 ns, sys: 1.39 ms, total: 1.39 ms\n",
            "Wall time: 885 µs\n"
          ],
          "name": "stdout"
        },
        {
          "output_type": "execute_result",
          "data": {
            "text/plain": [
              "333328333350000.0"
            ]
          },
          "metadata": {
            "tags": []
          },
          "execution_count": 50
        }
      ]
    },
    {
      "cell_type": "code",
      "metadata": {
        "colab": {
          "base_uri": "https://localhost:8080/"
        },
        "id": "6c4zWa78YzWk",
        "outputId": "50df7dca-46f2-43c1-cf9e-ca2d1a9c63fd"
      },
      "source": [
        "%%time\r\n",
        "# Built-in dot product.\r\n",
        "array_data.dot(array_data)"
      ],
      "execution_count": 51,
      "outputs": [
        {
          "output_type": "stream",
          "text": [
            "CPU times: user 1.19 ms, sys: 0 ns, total: 1.19 ms\n",
            "Wall time: 692 µs\n"
          ],
          "name": "stdout"
        },
        {
          "output_type": "execute_result",
          "data": {
            "text/plain": [
              "333328333350000.0"
            ]
          },
          "metadata": {
            "tags": []
          },
          "execution_count": 51
        }
      ]
    },
    {
      "cell_type": "code",
      "metadata": {
        "colab": {
          "base_uri": "https://localhost:8080/"
        },
        "id": "6AKDkLEtY1X5",
        "outputId": "b0d7c970-1bd3-4ae0-c394-e3af2e357aa7"
      },
      "source": [
        "%%time\r\n",
        "fortran_dot_product(array_data, array_data)"
      ],
      "execution_count": 52,
      "outputs": [
        {
          "output_type": "stream",
          "text": [
            "CPU times: user 146 µs, sys: 0 ns, total: 146 µs\n",
            "Wall time: 151 µs\n"
          ],
          "name": "stdout"
        },
        {
          "output_type": "execute_result",
          "data": {
            "text/plain": [
              "333328333350000.0"
            ]
          },
          "metadata": {
            "tags": []
          },
          "execution_count": 52
        }
      ]
    },
    {
      "cell_type": "code",
      "metadata": {
        "colab": {
          "base_uri": "https://localhost:8080/",
          "height": 180
        },
        "id": "ShqLIXggY32o",
        "outputId": "0693d6dc-506e-42b0-8751-c94cf07ecea0"
      },
      "source": [
        "# Numpy won't allow us to write a string into an int array.\r\n",
        "data[0] = \"must be int\""
      ],
      "execution_count": 53,
      "outputs": [
        {
          "output_type": "error",
          "ename": "ValueError",
          "evalue": "ignored",
          "traceback": [
            "\u001b[0;31m---------------------------------------------------------------------------\u001b[0m",
            "\u001b[0;31mValueError\u001b[0m                                Traceback (most recent call last)",
            "\u001b[0;32m<ipython-input-53-52322a1c3c2c>\u001b[0m in \u001b[0;36m<module>\u001b[0;34m()\u001b[0m\n\u001b[1;32m      1\u001b[0m \u001b[0;31m# Numpy won't allow us to write a string into an int array.\u001b[0m\u001b[0;34m\u001b[0m\u001b[0;34m\u001b[0m\u001b[0;34m\u001b[0m\u001b[0m\n\u001b[0;32m----> 2\u001b[0;31m \u001b[0mdata\u001b[0m\u001b[0;34m[\u001b[0m\u001b[0;36m0\u001b[0m\u001b[0;34m]\u001b[0m \u001b[0;34m=\u001b[0m \u001b[0;34m\"must be int\"\u001b[0m\u001b[0;34m\u001b[0m\u001b[0;34m\u001b[0m\u001b[0m\n\u001b[0m",
            "\u001b[0;31mValueError\u001b[0m: invalid literal for int() with base 10: 'must be int'"
          ]
        }
      ]
    },
    {
      "cell_type": "code",
      "metadata": {
        "colab": {
          "base_uri": "https://localhost:8080/",
          "height": 180
        },
        "id": "QpFbxtrTZA0u",
        "outputId": "97f25cb9-a829-4e18-824e-97c4f170c695"
      },
      "source": [
        "# We also can't grow an array once it's created.\r\n",
        "data.append(5)"
      ],
      "execution_count": 55,
      "outputs": [
        {
          "output_type": "error",
          "ename": "AttributeError",
          "evalue": "ignored",
          "traceback": [
            "\u001b[0;31m---------------------------------------------------------------------------\u001b[0m",
            "\u001b[0;31mAttributeError\u001b[0m                            Traceback (most recent call last)",
            "\u001b[0;32m<ipython-input-55-d6b1990fa0c0>\u001b[0m in \u001b[0;36m<module>\u001b[0;34m()\u001b[0m\n\u001b[1;32m      1\u001b[0m \u001b[0;31m# We also can't grow an array once it's created.\u001b[0m\u001b[0;34m\u001b[0m\u001b[0;34m\u001b[0m\u001b[0;34m\u001b[0m\u001b[0m\n\u001b[0;32m----> 2\u001b[0;31m \u001b[0mdata\u001b[0m\u001b[0;34m.\u001b[0m\u001b[0mappend\u001b[0m\u001b[0;34m(\u001b[0m\u001b[0;36m5\u001b[0m\u001b[0;34m)\u001b[0m\u001b[0;34m\u001b[0m\u001b[0;34m\u001b[0m\u001b[0m\n\u001b[0m",
            "\u001b[0;31mAttributeError\u001b[0m: 'numpy.ndarray' object has no attribute 'append'"
          ]
        }
      ]
    },
    {
      "cell_type": "code",
      "metadata": {
        "colab": {
          "base_uri": "https://localhost:8080/",
          "height": 197
        },
        "id": "XrQ01kYvZDHP",
        "outputId": "55a60227-1559-4f7f-babd-b9f6994c08d8"
      },
      "source": [
        "# We **can** reshape an array though.\r\n",
        "two_by_two = data.reshape(4, 4)\r\n",
        "two_by_two"
      ],
      "execution_count": 56,
      "outputs": [
        {
          "output_type": "error",
          "ename": "ValueError",
          "evalue": "ignored",
          "traceback": [
            "\u001b[0;31m---------------------------------------------------------------------------\u001b[0m",
            "\u001b[0;31mValueError\u001b[0m                                Traceback (most recent call last)",
            "\u001b[0;32m<ipython-input-56-43421665189d>\u001b[0m in \u001b[0;36m<module>\u001b[0;34m()\u001b[0m\n\u001b[1;32m      1\u001b[0m \u001b[0;31m# We **can** reshape an array though.\u001b[0m\u001b[0;34m\u001b[0m\u001b[0;34m\u001b[0m\u001b[0;34m\u001b[0m\u001b[0m\n\u001b[0;32m----> 2\u001b[0;31m \u001b[0mtwo_by_two\u001b[0m \u001b[0;34m=\u001b[0m \u001b[0mdata\u001b[0m\u001b[0;34m.\u001b[0m\u001b[0mreshape\u001b[0m\u001b[0;34m(\u001b[0m\u001b[0;36m4\u001b[0m\u001b[0;34m,\u001b[0m \u001b[0;36m4\u001b[0m\u001b[0;34m)\u001b[0m\u001b[0;34m\u001b[0m\u001b[0;34m\u001b[0m\u001b[0m\n\u001b[0m\u001b[1;32m      3\u001b[0m \u001b[0mtwo_by_two\u001b[0m\u001b[0;34m\u001b[0m\u001b[0;34m\u001b[0m\u001b[0m\n",
            "\u001b[0;31mValueError\u001b[0m: cannot reshape array of size 4 into shape (4,4)"
          ]
        }
      ]
    },
    {
      "cell_type": "markdown",
      "metadata": {
        "id": "vIj9u3jJZSIt"
      },
      "source": [
        "#What's in an Array?"
      ]
    },
    {
      "cell_type": "code",
      "metadata": {
        "colab": {
          "base_uri": "https://localhost:8080/"
        },
        "id": "OJcb8h-YZJA5",
        "outputId": "3510f643-e801-4c7c-ac41-26423d61640c"
      },
      "source": [
        "arr = np.array([5, 4, 8, 9, 7, 6], dtype='int16').reshape(2, 3)\r\n",
        "print(\"Array:\\n\", arr, sep='')\r\n",
        "print(\"===========\")\r\n",
        "print(\"DType:\", arr.dtype)\r\n",
        "print(\"Shape:\", arr.shape)\r\n",
        "print(\"Strides:\", arr.strides)\r\n",
        "print(\"Data:\", arr.data.tobytes())"
      ],
      "execution_count": 58,
      "outputs": [
        {
          "output_type": "stream",
          "text": [
            "Array:\n",
            "[[5 4 8]\n",
            " [9 7 6]]\n",
            "===========\n",
            "DType: int16\n",
            "Shape: (2, 3)\n",
            "Strides: (6, 2)\n",
            "Data: b'\\x05\\x00\\x04\\x00\\x08\\x00\\t\\x00\\x07\\x00\\x06\\x00'\n"
          ],
          "name": "stdout"
        }
      ]
    },
    {
      "cell_type": "markdown",
      "metadata": {
        "id": "BW_ByJNsZoku"
      },
      "source": [
        "#Core Operations\r\n",
        "\r\n",
        "- Vectorized **ufuncs** for elementwise operations.\r\n",
        "- Fancy indexing and masking for selection and filtering.\r\n",
        "- Aggregations across axes.\r\n",
        "- Broadcasting"
      ]
    },
    {
      "cell_type": "markdown",
      "metadata": {
        "id": "pbgr-EGSaDqd"
      },
      "source": [
        "#UFuncs"
      ]
    },
    {
      "cell_type": "code",
      "metadata": {
        "colab": {
          "base_uri": "https://localhost:8080/"
        },
        "id": "v9UYhiVPaHA8",
        "outputId": "3067552a-ab12-435f-b11a-2bd7fe727811"
      },
      "source": [
        "data = np.arange(20).reshape(4, 5)\r\n",
        "data"
      ],
      "execution_count": 59,
      "outputs": [
        {
          "output_type": "execute_result",
          "data": {
            "text/plain": [
              "array([[ 0,  1,  2,  3,  4],\n",
              "       [ 5,  6,  7,  8,  9],\n",
              "       [10, 11, 12, 13, 14],\n",
              "       [15, 16, 17, 18, 19]])"
            ]
          },
          "metadata": {
            "tags": []
          },
          "execution_count": 59
        }
      ]
    },
    {
      "cell_type": "code",
      "metadata": {
        "colab": {
          "base_uri": "https://localhost:8080/"
        },
        "id": "2_fshe3PaNmM",
        "outputId": "ab81370b-efd9-43cd-8780-bd96b1970d5e"
      },
      "source": [
        "# Binary operators.\r\n",
        "data * data"
      ],
      "execution_count": 60,
      "outputs": [
        {
          "output_type": "execute_result",
          "data": {
            "text/plain": [
              "array([[  0,   1,   4,   9,  16],\n",
              "       [ 25,  36,  49,  64,  81],\n",
              "       [100, 121, 144, 169, 196],\n",
              "       [225, 256, 289, 324, 361]])"
            ]
          },
          "metadata": {
            "tags": []
          },
          "execution_count": 60
        }
      ]
    },
    {
      "cell_type": "code",
      "metadata": {
        "colab": {
          "base_uri": "https://localhost:8080/"
        },
        "id": "1bZ4Jam9aQS_",
        "outputId": "74108836-0856-4c0f-a7b1-9100df8c3972"
      },
      "source": [
        "# Unary functions.\r\n",
        "np.sqrt(data)"
      ],
      "execution_count": 61,
      "outputs": [
        {
          "output_type": "execute_result",
          "data": {
            "text/plain": [
              "array([[0.        , 1.        , 1.41421356, 1.73205081, 2.        ],\n",
              "       [2.23606798, 2.44948974, 2.64575131, 2.82842712, 3.        ],\n",
              "       [3.16227766, 3.31662479, 3.46410162, 3.60555128, 3.74165739],\n",
              "       [3.87298335, 4.        , 4.12310563, 4.24264069, 4.35889894]])"
            ]
          },
          "metadata": {
            "tags": []
          },
          "execution_count": 61
        }
      ]
    },
    {
      "cell_type": "code",
      "metadata": {
        "colab": {
          "base_uri": "https://localhost:8080/"
        },
        "id": "EJwPKtv3aQZi",
        "outputId": "511269db-47bb-4717-c6e0-183a1712af6a"
      },
      "source": [
        "# Comparison operations\r\n",
        "(data % 4) == 0"
      ],
      "execution_count": 63,
      "outputs": [
        {
          "output_type": "execute_result",
          "data": {
            "text/plain": [
              "array([[ True, False, False, False,  True],\n",
              "       [False, False, False,  True, False],\n",
              "       [False, False,  True, False, False],\n",
              "       [False,  True, False, False, False]])"
            ]
          },
          "metadata": {
            "tags": []
          },
          "execution_count": 63
        }
      ]
    },
    {
      "cell_type": "code",
      "metadata": {
        "colab": {
          "base_uri": "https://localhost:8080/"
        },
        "id": "JrZVy794adAY",
        "outputId": "2cfaf780-9541-43a2-e5a4-8d4eb090502a"
      },
      "source": [
        "# Boolean combinators.\r\n",
        "((data % 2) == 0) & ((data % 4) == 0)"
      ],
      "execution_count": 64,
      "outputs": [
        {
          "output_type": "execute_result",
          "data": {
            "text/plain": [
              "array([[ True, False, False, False,  True],\n",
              "       [False, False, False,  True, False],\n",
              "       [False, False,  True, False, False],\n",
              "       [False,  True, False, False, False]])"
            ]
          },
          "metadata": {
            "tags": []
          },
          "execution_count": 64
        }
      ]
    },
    {
      "cell_type": "code",
      "metadata": {
        "colab": {
          "base_uri": "https://localhost:8080/"
        },
        "id": "M_rnJaqkadIL",
        "outputId": "195f079e-d430-4204-d5e0-6232fe55f37c"
      },
      "source": [
        "# as of python 3.5, @ is matrix-multiply\r\n",
        "data @ data.T"
      ],
      "execution_count": 65,
      "outputs": [
        {
          "output_type": "execute_result",
          "data": {
            "text/plain": [
              "array([[  30,   80,  130,  180],\n",
              "       [  80,  255,  430,  605],\n",
              "       [ 130,  430,  730, 1030],\n",
              "       [ 180,  605, 1030, 1455]])"
            ]
          },
          "metadata": {
            "tags": []
          },
          "execution_count": 65
        }
      ]
    },
    {
      "cell_type": "markdown",
      "metadata": {
        "id": "trett6tBamft"
      },
      "source": [
        "#Selections"
      ]
    },
    {
      "cell_type": "code",
      "metadata": {
        "colab": {
          "base_uri": "https://localhost:8080/"
        },
        "id": "aUWpQT3kacSE",
        "outputId": "e596be31-eda1-4528-e655-1c7ff3498ad6"
      },
      "source": [
        "sines = np.sin(np.linspace(0, 2.72, 20))\r\n",
        "cosines = np.cos(np.linspace(0, 2.72, 20))\r\n",
        "sines"
      ],
      "execution_count": 66,
      "outputs": [
        {
          "output_type": "execute_result",
          "data": {
            "text/plain": [
              "array([0.        , 0.14266941, 0.28241992, 0.41639234, 0.54184571,\n",
              "       0.65621334, 0.75715537, 0.8426066 , 0.91081877, 0.96039631,\n",
              "       0.9903249 , 0.99999224, 0.98920052, 0.95817055, 0.90753717,\n",
              "       0.83833631, 0.75198374, 0.65024619, 0.53520512, 0.40921417])"
            ]
          },
          "metadata": {
            "tags": []
          },
          "execution_count": 66
        }
      ]
    },
    {
      "cell_type": "code",
      "metadata": {
        "colab": {
          "base_uri": "https://localhost:8080/"
        },
        "id": "v8q7B1vqZdn-",
        "outputId": "e08872eb-fa6b-465d-dacf-f5e91d76a861"
      },
      "source": [
        "# Slicing works with the same semantics as Python lists.\r\n",
        "sines[5]"
      ],
      "execution_count": 67,
      "outputs": [
        {
          "output_type": "execute_result",
          "data": {
            "text/plain": [
              "0.6562133385653814"
            ]
          },
          "metadata": {
            "tags": []
          },
          "execution_count": 67
        }
      ]
    },
    {
      "cell_type": "code",
      "metadata": {
        "colab": {
          "base_uri": "https://localhost:8080/"
        },
        "id": "IbQPAy21azL3",
        "outputId": "f189932f-5ec1-4997-86b6-ffceeb562ace"
      },
      "source": [
        "sines[:2]  # First two elements  "
      ],
      "execution_count": 69,
      "outputs": [
        {
          "output_type": "execute_result",
          "data": {
            "text/plain": [
              "array([0.        , 0.14266941])"
            ]
          },
          "metadata": {
            "tags": []
          },
          "execution_count": 69
        }
      ]
    },
    {
      "cell_type": "code",
      "metadata": {
        "colab": {
          "base_uri": "https://localhost:8080/"
        },
        "id": "5FPlYbv2a1bl",
        "outputId": "dff109ad-4a18-41cc-f561-92ccf93942d3"
      },
      "source": [
        "sines[6:]  # Elements from 6 on."
      ],
      "execution_count": 70,
      "outputs": [
        {
          "output_type": "execute_result",
          "data": {
            "text/plain": [
              "array([0.75715537, 0.8426066 , 0.91081877, 0.96039631, 0.9903249 ,\n",
              "       0.99999224, 0.98920052, 0.95817055, 0.90753717, 0.83833631,\n",
              "       0.75198374, 0.65024619, 0.53520512, 0.40921417])"
            ]
          },
          "metadata": {
            "tags": []
          },
          "execution_count": 70
        }
      ]
    },
    {
      "cell_type": "code",
      "metadata": {
        "colab": {
          "base_uri": "https://localhost:8080/"
        },
        "id": "7YnC3spza5ko",
        "outputId": "86d427f9-9bda-461f-a845-9f4c313e4f53"
      },
      "source": [
        "sines[::2]  # Every other element."
      ],
      "execution_count": 71,
      "outputs": [
        {
          "output_type": "execute_result",
          "data": {
            "text/plain": [
              "array([0.        , 0.28241992, 0.54184571, 0.75715537, 0.91081877,\n",
              "       0.9903249 , 0.98920052, 0.90753717, 0.75198374, 0.53520512])"
            ]
          },
          "metadata": {
            "tags": []
          },
          "execution_count": 71
        }
      ]
    },
    {
      "cell_type": "code",
      "metadata": {
        "colab": {
          "base_uri": "https://localhost:8080/"
        },
        "id": "GWjDVhA5a-1O",
        "outputId": "bfd770fe-b5fd-4ea3-8d27-e17bf16bfd99"
      },
      "source": [
        "# More interesting: we can index with boolean arrays to filter by a predicate.\r\n",
        "print(\"sines:\\n\", sines)\r\n",
        "print(\"sines > 0.5:\\n\", sines > 1.5)\r\n",
        "print(\"sines[sines > 0.5]:\\n\", sines[sines > 1.5])"
      ],
      "execution_count": 72,
      "outputs": [
        {
          "output_type": "stream",
          "text": [
            "sines:\n",
            " [0.         0.14266941 0.28241992 0.41639234 0.54184571 0.65621334\n",
            " 0.75715537 0.8426066  0.91081877 0.96039631 0.9903249  0.99999224\n",
            " 0.98920052 0.95817055 0.90753717 0.83833631 0.75198374 0.65024619\n",
            " 0.53520512 0.40921417]\n",
            "sines > 0.5:\n",
            " [False False False False False False False False False False False False\n",
            " False False False False False False False False]\n",
            "sines[sines > 0.5]:\n",
            " []\n"
          ],
          "name": "stdout"
        }
      ]
    },
    {
      "cell_type": "code",
      "metadata": {
        "colab": {
          "base_uri": "https://localhost:8080/"
        },
        "id": "Ny2SPquBbPCG",
        "outputId": "1f59ca15-ab38-4030-fb39-1cc3e11d2d94"
      },
      "source": [
        "# We index with lists/arrays of integers to select values at those indices.\r\n",
        "print(sines)\r\n",
        "sines[[1, 0, 3]]"
      ],
      "execution_count": 73,
      "outputs": [
        {
          "output_type": "stream",
          "text": [
            "[0.         0.14266941 0.28241992 0.41639234 0.54184571 0.65621334\n",
            " 0.75715537 0.8426066  0.91081877 0.96039631 0.9903249  0.99999224\n",
            " 0.98920052 0.95817055 0.90753717 0.83833631 0.75198374 0.65024619\n",
            " 0.53520512 0.40921417]\n"
          ],
          "name": "stdout"
        },
        {
          "output_type": "execute_result",
          "data": {
            "text/plain": [
              "array([0.14266941, 0.        , 0.41639234])"
            ]
          },
          "metadata": {
            "tags": []
          },
          "execution_count": 73
        }
      ]
    },
    {
      "cell_type": "code",
      "metadata": {
        "id": "YVXgrhCcbYYI"
      },
      "source": [
        "# Index arrays are often used for sorting one or more arrays.\r\n",
        "unsorted_data = np.array([1385, 3204, 2495, 1234, -8921, 4925, 2945])"
      ],
      "execution_count": 76,
      "outputs": []
    },
    {
      "cell_type": "code",
      "metadata": {
        "colab": {
          "base_uri": "https://localhost:8080/"
        },
        "id": "xtxKS95jbiQX",
        "outputId": "6d0312d6-730f-4772-8e64-7da05a66eb7b"
      },
      "source": [
        "sort_indices = np.argsort(unsorted_data)\r\n",
        "sort_indices"
      ],
      "execution_count": 77,
      "outputs": [
        {
          "output_type": "execute_result",
          "data": {
            "text/plain": [
              "array([4, 3, 0, 2, 6, 1, 5])"
            ]
          },
          "metadata": {
            "tags": []
          },
          "execution_count": 77
        }
      ]
    },
    {
      "cell_type": "code",
      "metadata": {
        "colab": {
          "base_uri": "https://localhost:8080/"
        },
        "id": "zp5LG7Xibj22",
        "outputId": "8f3afacb-acf7-4404-ef94-edf25788c4e9"
      },
      "source": [
        "unsorted_data[sort_indices]"
      ],
      "execution_count": 78,
      "outputs": [
        {
          "output_type": "execute_result",
          "data": {
            "text/plain": [
              "array([-8921,  1234,  1385,  2495,  2945,  3204,  4925])"
            ]
          },
          "metadata": {
            "tags": []
          },
          "execution_count": 78
        }
      ]
    },
    {
      "cell_type": "code",
      "metadata": {
        "id": "IFp5WwsfbokO"
      },
      "source": [
        "market_caps = np.array([12, 6, 10, 5, 6])  # Presumably in dollars?\r\n",
        "assets = np.array(['A', 'L', 'E', 'J', 'A'])"
      ],
      "execution_count": 79,
      "outputs": []
    },
    {
      "cell_type": "code",
      "metadata": {
        "colab": {
          "base_uri": "https://localhost:8080/"
        },
        "id": "g9SiavgJbwid",
        "outputId": "ec7dc48f-5ff9-438b-a3be-39999573e72a"
      },
      "source": [
        "# Sort assets by market cap by using the permutation that would sort market caps on ``assets``.\r\n",
        "sort_by_mcap = np.argsort(market_caps)\r\n",
        "assets[sort_by_mcap]"
      ],
      "execution_count": 80,
      "outputs": [
        {
          "output_type": "execute_result",
          "data": {
            "text/plain": [
              "array(['J', 'L', 'A', 'E', 'A'], dtype='<U1')"
            ]
          },
          "metadata": {
            "tags": []
          },
          "execution_count": 80
        }
      ]
    },
    {
      "cell_type": "code",
      "metadata": {
        "colab": {
          "base_uri": "https://localhost:8080/"
        },
        "id": "qg0VCPZobyg5",
        "outputId": "e109371a-d89b-41f0-c4c3-558c19aa5c43"
      },
      "source": [
        "# Indexers are also useful for aligning data.\r\n",
        "print(\"Dates:\\n\", repr(event_dates))\r\n",
        "print(\"Values:\\n\", repr(event_values))\r\n",
        "print(\"Calendar:\\n\", repr(calendar))"
      ],
      "execution_count": 81,
      "outputs": [
        {
          "output_type": "stream",
          "text": [
            "Dates:\n",
            " array(['2017-01-06', '2017-01-07', '2017-01-08'], dtype='datetime64[D]')\n",
            "Values:\n",
            " array([10, 15, 20])\n",
            "Calendar:\n",
            " array(['2017-01-03', '2017-01-04', '2017-01-05', '2017-01-06',\n",
            "       '2017-01-09', '2017-01-10', '2017-01-11', '2017-01-12',\n",
            "       '2017-01-13', '2017-01-17', '2017-01-18', '2017-01-19',\n",
            "       '2017-01-20', '2017-01-23', '2017-01-24', '2017-01-25',\n",
            "       '2017-01-26', '2017-01-27', '2017-01-30', '2017-01-31',\n",
            "       '2017-02-01'], dtype='datetime64[D]')\n"
          ],
          "name": "stdout"
        }
      ]
    },
    {
      "cell_type": "code",
      "metadata": {
        "colab": {
          "base_uri": "https://localhost:8080/"
        },
        "id": "u48RsB_hb0U6",
        "outputId": "50e990a3-67eb-43ec-9822-ddd284c0cec3"
      },
      "source": [
        "print(\"Raw Dates:\", event_dates)\r\n",
        "print(\"Indices:\", calendar.searchsorted(event_dates))\r\n",
        "print(\"Forward-Filled Dates:\", calendar[calendar.searchsorted(event_dates)])"
      ],
      "execution_count": 82,
      "outputs": [
        {
          "output_type": "stream",
          "text": [
            "Raw Dates: ['2017-01-06' '2017-01-07' '2017-01-08']\n",
            "Indices: [3 4 4]\n",
            "Forward-Filled Dates: ['2017-01-06' '2017-01-09' '2017-01-09']\n"
          ],
          "name": "stdout"
        }
      ]
    },
    {
      "cell_type": "code",
      "metadata": {
        "colab": {
          "base_uri": "https://localhost:8080/"
        },
        "id": "cV570NQIb7rD",
        "outputId": "9f24d7dd-2b7b-48b4-8aa4-cf6c3e00f8e5"
      },
      "source": [
        "data = np.arange(16).reshape(4, 4)\r\n",
        "data"
      ],
      "execution_count": 83,
      "outputs": [
        {
          "output_type": "execute_result",
          "data": {
            "text/plain": [
              "array([[ 0,  1,  2,  3],\n",
              "       [ 4,  5,  6,  7],\n",
              "       [ 8,  9, 10, 11],\n",
              "       [12, 13, 14, 15]])"
            ]
          },
          "metadata": {
            "tags": []
          },
          "execution_count": 83
        }
      ]
    },
    {
      "cell_type": "code",
      "metadata": {
        "colab": {
          "base_uri": "https://localhost:8080/"
        },
        "id": "oyvsyT3gcFD8",
        "outputId": "ad17b343-1723-4d94-e848-065352d8ea57"
      },
      "source": [
        "data[:2, :2]  # First two rows and first two columns."
      ],
      "execution_count": 84,
      "outputs": [
        {
          "output_type": "execute_result",
          "data": {
            "text/plain": [
              "array([[0, 1],\n",
              "       [4, 5]])"
            ]
          },
          "metadata": {
            "tags": []
          },
          "execution_count": 84
        }
      ]
    },
    {
      "cell_type": "code",
      "metadata": {
        "colab": {
          "base_uri": "https://localhost:8080/"
        },
        "id": "cQCCc1wQcI0L",
        "outputId": "98e57d2d-7869-441f-97e3-943ace28486d"
      },
      "source": [
        "data[:-2, [1, 0]]  # Last two rows, second and first columns."
      ],
      "execution_count": 85,
      "outputs": [
        {
          "output_type": "execute_result",
          "data": {
            "text/plain": [
              "array([[1, 0],\n",
              "       [5, 4]])"
            ]
          },
          "metadata": {
            "tags": []
          },
          "execution_count": 85
        }
      ]
    },
    {
      "cell_type": "code",
      "metadata": {
        "colab": {
          "base_uri": "https://localhost:8080/"
        },
        "id": "xmYUCxzvcrKa",
        "outputId": "b12186bf-0db2-4f6c-b68a-fdaf4571e583"
      },
      "source": [
        "data[(data[:, 0] % 2) == 0]  # Rows where the first column is divisible by two."
      ],
      "execution_count": 86,
      "outputs": [
        {
          "output_type": "execute_result",
          "data": {
            "text/plain": [
              "array([[ 0,  1,  2,  3],\n",
              "       [ 4,  5,  6,  7],\n",
              "       [ 8,  9, 10, 11],\n",
              "       [12, 13, 14, 15]])"
            ]
          },
          "metadata": {
            "tags": []
          },
          "execution_count": 86
        }
      ]
    },
    {
      "cell_type": "markdown",
      "metadata": {
        "id": "PuS3IMBac-r_"
      },
      "source": [
        "## Reductions\r\n"
      ]
    },
    {
      "cell_type": "code",
      "metadata": {
        "id": "ochda5WJctOA"
      },
      "source": [
        "def variance(x):\r\n",
        "    return ((x - x.mean()) ** 2).sum() / len(x)"
      ],
      "execution_count": 88,
      "outputs": []
    },
    {
      "cell_type": "code",
      "metadata": {
        "colab": {
          "base_uri": "https://localhost:8080/"
        },
        "id": "E0dNXqJGdCrR",
        "outputId": "c0fd6d15-e576-4d1a-c210-7908f9051dfc"
      },
      "source": [
        "variance(np.random.standard_normal(50000))"
      ],
      "execution_count": 89,
      "outputs": [
        {
          "output_type": "execute_result",
          "data": {
            "text/plain": [
              "1.0048583658047263"
            ]
          },
          "metadata": {
            "tags": []
          },
          "execution_count": 89
        }
      ]
    },
    {
      "cell_type": "code",
      "metadata": {
        "colab": {
          "base_uri": "https://localhost:8080/"
        },
        "id": "mppUlvqcdHcj",
        "outputId": "8d46bfc0-2677-4ffb-d01f-8a945d5f46b7"
      },
      "source": [
        "data = np.arange(20)\r\n",
        "data.mean()"
      ],
      "execution_count": 90,
      "outputs": [
        {
          "output_type": "execute_result",
          "data": {
            "text/plain": [
              "9.5"
            ]
          },
          "metadata": {
            "tags": []
          },
          "execution_count": 90
        }
      ]
    },
    {
      "cell_type": "code",
      "metadata": {
        "colab": {
          "base_uri": "https://localhost:8080/"
        },
        "id": "ZQfEGHGEdJxN",
        "outputId": "ca935e49-7103-4d76-c5f5-d49d711973d5"
      },
      "source": [
        "data = np.arange(20).reshape(2, 10)\r\n",
        "data"
      ],
      "execution_count": 91,
      "outputs": [
        {
          "output_type": "execute_result",
          "data": {
            "text/plain": [
              "array([[ 0,  1,  2,  3,  4,  5,  6,  7,  8,  9],\n",
              "       [10, 11, 12, 13, 14, 15, 16, 17, 18, 19]])"
            ]
          },
          "metadata": {
            "tags": []
          },
          "execution_count": 91
        }
      ]
    },
    {
      "cell_type": "code",
      "metadata": {
        "colab": {
          "base_uri": "https://localhost:8080/"
        },
        "id": "AH7DzQU_dM3R",
        "outputId": "efad500e-696d-43cc-9765-8d1be07814ac"
      },
      "source": [
        "data.mean()"
      ],
      "execution_count": 92,
      "outputs": [
        {
          "output_type": "execute_result",
          "data": {
            "text/plain": [
              "9.5"
            ]
          },
          "metadata": {
            "tags": []
          },
          "execution_count": 92
        }
      ]
    },
    {
      "cell_type": "code",
      "metadata": {
        "colab": {
          "base_uri": "https://localhost:8080/"
        },
        "id": "SK_x6qp4dOSJ",
        "outputId": "74bf4495-50b7-438e-9089-230a05ae95b7"
      },
      "source": [
        "data.mean(axis=1)"
      ],
      "execution_count": 94,
      "outputs": [
        {
          "output_type": "execute_result",
          "data": {
            "text/plain": [
              "array([ 4.5, 14.5])"
            ]
          },
          "metadata": {
            "tags": []
          },
          "execution_count": 94
        }
      ]
    },
    {
      "cell_type": "code",
      "metadata": {
        "colab": {
          "base_uri": "https://localhost:8080/"
        },
        "id": "5FYK6xoadPv3",
        "outputId": "5ac92e7b-3d73-4fb6-fbf0-71d7fab895f9"
      },
      "source": [
        "data.mean(axis=0)"
      ],
      "execution_count": 96,
      "outputs": [
        {
          "output_type": "execute_result",
          "data": {
            "text/plain": [
              "array([ 5.,  6.,  7.,  8.,  9., 10., 11., 12., 13., 14.])"
            ]
          },
          "metadata": {
            "tags": []
          },
          "execution_count": 96
        }
      ]
    },
    {
      "cell_type": "markdown",
      "metadata": {
        "id": "2H4nu93Mdpvh"
      },
      "source": [
        "## Broadcasting\r\n"
      ]
    },
    {
      "cell_type": "code",
      "metadata": {
        "colab": {
          "base_uri": "https://localhost:8080/"
        },
        "id": "mc7m9wbGdS5T",
        "outputId": "2c5f0fd2-873a-4629-a336-7d2520343f67"
      },
      "source": [
        "row = np.array([3, 7, 4, 9])\r\n",
        "column = np.array([[5], [6], [7]])\r\n",
        "print(\"Row:\\n\", row, sep='')\r\n",
        "print(\"Column:\\n\", column, sep='')"
      ],
      "execution_count": 97,
      "outputs": [
        {
          "output_type": "stream",
          "text": [
            "Row:\n",
            "[3 7 4 9]\n",
            "Column:\n",
            "[[5]\n",
            " [6]\n",
            " [7]]\n"
          ],
          "name": "stdout"
        }
      ]
    },
    {
      "cell_type": "code",
      "metadata": {
        "colab": {
          "base_uri": "https://localhost:8080/"
        },
        "id": "wSfisJT9d6xe",
        "outputId": "d954cf7c-061c-4738-f1b8-a4643cd1f641"
      },
      "source": [
        "row + column"
      ],
      "execution_count": 98,
      "outputs": [
        {
          "output_type": "execute_result",
          "data": {
            "text/plain": [
              "array([[ 8, 12,  9, 14],\n",
              "       [ 9, 13, 10, 15],\n",
              "       [10, 14, 11, 16]])"
            ]
          },
          "metadata": {
            "tags": []
          },
          "execution_count": 98
        }
      ]
    },
    {
      "cell_type": "code",
      "metadata": {
        "colab": {
          "base_uri": "https://localhost:8080/"
        },
        "id": "xdbT8Jq0d8aR",
        "outputId": "6803dd20-697c-46e9-e5df-69e392457b94"
      },
      "source": [
        "# Broadcasting is particularly useful in conjunction with reductions.\r\n",
        "print(\"Data:\\n\", data, sep='')\r\n",
        "print(\"Mean:\\n\", data.mean(axis=0), sep='')\r\n",
        "print(\"Data - Mean:\\n\", data - data.mean(axis=0), sep='')"
      ],
      "execution_count": 99,
      "outputs": [
        {
          "output_type": "stream",
          "text": [
            "Data:\n",
            "[[ 0  1  2  3  4  5  6  7  8  9]\n",
            " [10 11 12 13 14 15 16 17 18 19]]\n",
            "Mean:\n",
            "[ 5.  6.  7.  8.  9. 10. 11. 12. 13. 14.]\n",
            "Data - Mean:\n",
            "[[-5. -5. -5. -5. -5. -5. -5. -5. -5. -5.]\n",
            " [ 5.  5.  5.  5.  5.  5.  5.  5.  5.  5.]]\n"
          ],
          "name": "stdout"
        }
      ]
    },
    {
      "cell_type": "markdown",
      "metadata": {
        "id": "ThyX6o1NeHVr"
      },
      "source": [
        "## Selection in Pandas"
      ]
    },
    {
      "cell_type": "code",
      "metadata": {
        "colab": {
          "base_uri": "https://localhost:8080/"
        },
        "id": "J3Ld3PiOd_Q7",
        "outputId": "7a36e1f8-6f61-4b14-9cb2-e2bb58b82fcd"
      },
      "source": [
        "s = pd.Series(index=['a', 'l', 'e', 'j', 'a'], data=[8, 7, 6, 5, 4])\r\n",
        "s"
      ],
      "execution_count": 100,
      "outputs": [
        {
          "output_type": "execute_result",
          "data": {
            "text/plain": [
              "a    8\n",
              "l    7\n",
              "e    6\n",
              "j    5\n",
              "a    4\n",
              "dtype: int64"
            ]
          },
          "metadata": {
            "tags": []
          },
          "execution_count": 100
        }
      ]
    },
    {
      "cell_type": "code",
      "metadata": {
        "colab": {
          "base_uri": "https://localhost:8080/"
        },
        "id": "iw1YSXwcePGE",
        "outputId": "501f673e-12e8-4937-98fe-564195a00c11"
      },
      "source": [
        "# There are two pieces to a Series: the index and the values.\r\n",
        "print(\"The index is:\", s.index)\r\n",
        "print(\"The values are:\", s.values)"
      ],
      "execution_count": 101,
      "outputs": [
        {
          "output_type": "stream",
          "text": [
            "The index is: Index(['a', 'l', 'e', 'j', 'a'], dtype='object')\n",
            "The values are: [8 7 6 5 4]\n"
          ],
          "name": "stdout"
        }
      ]
    },
    {
      "cell_type": "code",
      "metadata": {
        "colab": {
          "base_uri": "https://localhost:8080/"
        },
        "id": "z-VhJZsFeRYk",
        "outputId": "82b7381a-c752-45b4-d49f-bb03a97366e7"
      },
      "source": [
        "# We can look up values out of a Series by position...\r\n",
        "s.iloc[4]"
      ],
      "execution_count": 102,
      "outputs": [
        {
          "output_type": "execute_result",
          "data": {
            "text/plain": [
              "4"
            ]
          },
          "metadata": {
            "tags": []
          },
          "execution_count": 102
        }
      ]
    },
    {
      "cell_type": "code",
      "metadata": {
        "colab": {
          "base_uri": "https://localhost:8080/"
        },
        "id": "whTsIZMTeT66",
        "outputId": "c6428c6c-7019-4028-918f-db2287169dbb"
      },
      "source": [
        "# ... or by label.\r\n",
        "s.loc['a']"
      ],
      "execution_count": 103,
      "outputs": [
        {
          "output_type": "execute_result",
          "data": {
            "text/plain": [
              "a    8\n",
              "a    4\n",
              "dtype: int64"
            ]
          },
          "metadata": {
            "tags": []
          },
          "execution_count": 103
        }
      ]
    },
    {
      "cell_type": "code",
      "metadata": {
        "colab": {
          "base_uri": "https://localhost:8080/"
        },
        "id": "tCjzxF3IeWNR",
        "outputId": "5c6dce76-3777-4c46-9876-18055c1bd231"
      },
      "source": [
        "# Slicing works as expected...\r\n",
        "s.iloc[:3]"
      ],
      "execution_count": 104,
      "outputs": [
        {
          "output_type": "execute_result",
          "data": {
            "text/plain": [
              "a    8\n",
              "l    7\n",
              "e    6\n",
              "dtype: int64"
            ]
          },
          "metadata": {
            "tags": []
          },
          "execution_count": 104
        }
      ]
    },
    {
      "cell_type": "code",
      "metadata": {
        "colab": {
          "base_uri": "https://localhost:8080/"
        },
        "id": "15-Ir6BOea3k",
        "outputId": "7649671b-02db-48b8-f6b8-555071360184"
      },
      "source": [
        "# ...but it works with labels too!\r\n",
        "s.loc[:'e']"
      ],
      "execution_count": 105,
      "outputs": [
        {
          "output_type": "execute_result",
          "data": {
            "text/plain": [
              "a    8\n",
              "l    7\n",
              "e    6\n",
              "dtype: int64"
            ]
          },
          "metadata": {
            "tags": []
          },
          "execution_count": 105
        }
      ]
    },
    {
      "cell_type": "code",
      "metadata": {
        "colab": {
          "base_uri": "https://localhost:8080/"
        },
        "id": "qgRUaeFieeUT",
        "outputId": "a3416c4e-3e2d-4412-85ab-a318aa2d9d79"
      },
      "source": [
        "# Fancy indexing works the same as in numpy.\r\n",
        "s.iloc[[0, -1]]"
      ],
      "execution_count": 106,
      "outputs": [
        {
          "output_type": "execute_result",
          "data": {
            "text/plain": [
              "a    8\n",
              "a    4\n",
              "dtype: int64"
            ]
          },
          "metadata": {
            "tags": []
          },
          "execution_count": 106
        }
      ]
    },
    {
      "cell_type": "code",
      "metadata": {
        "colab": {
          "base_uri": "https://localhost:8080/"
        },
        "id": "N9_BZmbKegkk",
        "outputId": "5bcd6cee-e778-44ae-d01a-3aca963d0b79"
      },
      "source": [
        "# As does boolean masking.\r\n",
        "s.loc[s > 2]"
      ],
      "execution_count": 107,
      "outputs": [
        {
          "output_type": "execute_result",
          "data": {
            "text/plain": [
              "a    8\n",
              "l    7\n",
              "e    6\n",
              "j    5\n",
              "a    4\n",
              "dtype: int64"
            ]
          },
          "metadata": {
            "tags": []
          },
          "execution_count": 107
        }
      ]
    },
    {
      "cell_type": "code",
      "metadata": {
        "colab": {
          "base_uri": "https://localhost:8080/"
        },
        "id": "sqt9n4UvejU3",
        "outputId": "d623678c-5441-4a63-b7c3-280c17c4abbe"
      },
      "source": [
        "# Element-wise operations are aligned by index.\r\n",
        "other_s = pd.Series({'a': 5.0, 'c': 10.0, 'd': 15.0, 'z': 20.0})\r\n",
        "other_s"
      ],
      "execution_count": 108,
      "outputs": [
        {
          "output_type": "execute_result",
          "data": {
            "text/plain": [
              "a     5.0\n",
              "c    10.0\n",
              "d    15.0\n",
              "z    20.0\n",
              "dtype: float64"
            ]
          },
          "metadata": {
            "tags": []
          },
          "execution_count": 108
        }
      ]
    },
    {
      "cell_type": "code",
      "metadata": {
        "colab": {
          "base_uri": "https://localhost:8080/"
        },
        "id": "xni4lZe4ep1K",
        "outputId": "d2d735ad-5e89-41f7-b187-370d96901eb5"
      },
      "source": [
        "s + other_s"
      ],
      "execution_count": 109,
      "outputs": [
        {
          "output_type": "execute_result",
          "data": {
            "text/plain": [
              "a    13.0\n",
              "a     9.0\n",
              "c     NaN\n",
              "d     NaN\n",
              "e     NaN\n",
              "j     NaN\n",
              "l     NaN\n",
              "z     NaN\n",
              "dtype: float64"
            ]
          },
          "metadata": {
            "tags": []
          },
          "execution_count": 109
        }
      ]
    },
    {
      "cell_type": "code",
      "metadata": {
        "colab": {
          "base_uri": "https://localhost:8080/"
        },
        "id": "IXrjvANTeruG",
        "outputId": "a91b0cae-cbc9-48a7-b6ba-ac1a46aaf093"
      },
      "source": [
        "# We can fill in missing values with fillna().\r\n",
        "(s + other_s).fillna(0.0)"
      ],
      "execution_count": 110,
      "outputs": [
        {
          "output_type": "execute_result",
          "data": {
            "text/plain": [
              "a    13.0\n",
              "a     9.0\n",
              "c     0.0\n",
              "d     0.0\n",
              "e     0.0\n",
              "j     0.0\n",
              "l     0.0\n",
              "z     0.0\n",
              "dtype: float64"
            ]
          },
          "metadata": {
            "tags": []
          },
          "execution_count": 110
        }
      ]
    },
    {
      "cell_type": "markdown",
      "metadata": {
        "id": "qXCbS6X5fRmB"
      },
      "source": [
        "#A CAT\r\n",
        "<center><img src=\"Pictures/Cat.jpg\" alt=\"Drawing\" style=\"width: 50%;\"/></center>"
      ]
    }
  ]
}