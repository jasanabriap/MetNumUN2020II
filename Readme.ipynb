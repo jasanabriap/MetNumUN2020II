{
  "nbformat": 4,
  "nbformat_minor": 0,
  "metadata": {
    "colab": {
      "name": "Untitled1.ipynb",
      "provenance": [],
      "collapsed_sections": []
    },
    "kernelspec": {
      "name": "python3",
      "display_name": "Python 3"
    }
  },
  "cells": [
    {
      "cell_type": "markdown",
      "metadata": {
        "id": "xnTHE6lpNDf9"
      },
      "source": [
        "<center>\r\n",
        "  <h1>Jenny Alejandra Sanabria P:</h1>\r\n",
        "  <h3><a href=\"https://github.com/jasanabriap/MetNumUN2020II\">https://github.com/jasanabriap/MetNumUN2020II</a></h3>\r\n",
        "</center>"
      ]
    },
    {
      "cell_type": "markdown",
      "metadata": {
        "id": "AgtTSCamQKgD"
      },
      "source": [
        "# Un poco de mí, Alejandra:\r\n",
        "\r\n",
        "\r\n",
        "- Estudiante de ingeniería agrícola\r\n",
        "- Me gustan las artes plásticas\r\n",
        "- Uso una bici libre color lila\r\n",
        "- En este github están todos mis proyectos que hice d la clase Métodos Numéricos"
      ]
    },
    {
      "cell_type": "code",
      "metadata": {
        "id": "L-7tPVNSRcpa"
      },
      "source": [
        ""
      ],
      "execution_count": null,
      "outputs": []
    },
    {
      "cell_type": "markdown",
      "metadata": {
        "id": "fUzszH7FQCNt"
      },
      "source": [
        ""
      ]
    },
    {
      "cell_type": "code",
      "metadata": {
        "id": "kUTV7hwdPSyH"
      },
      "source": [
        ""
      ],
      "execution_count": null,
      "outputs": []
    }
  ]
}